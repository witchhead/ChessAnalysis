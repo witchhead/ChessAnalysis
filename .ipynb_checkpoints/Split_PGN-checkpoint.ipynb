{
 "cells": [
  {
   "cell_type": "code",
   "execution_count": 1,
   "id": "8ba5441d",
   "metadata": {},
   "outputs": [],
   "source": [
    "import numpy as np"
   ]
  },
  {
   "cell_type": "code",
   "execution_count": 2,
   "id": "5c04ffab",
   "metadata": {},
   "outputs": [],
   "source": [
    "timeformat = [\"60+0\", \"180+0\", \"300+0\", \"600+0\", \"180+2\"]\n",
    "split_into = 20\n",
    "max = 100\n",
    "per_split = int(max / (split_into))\n",
    "dir = \"E:/split_data/\""
   ]
  },
  {
   "cell_type": "code",
   "execution_count": 3,
   "id": "afff2759",
   "metadata": {},
   "outputs": [],
   "source": [
    "readpgn = open(\"E:\\lichess_db_standard_rated_2023-04.pgn\")\n",
    "curr_split = 0\n",
    "wr = open(dir + \"split_pgn_\"+ str(curr_split) + '.pgn', mode = 'a+', newline = '')\n",
    "count = 0\n",
    "keywords = ['Result', 'UTCDate', 'UTCTime', 'WhiteElo', 'BlackElo',\n",
    "            'WhiteRatingDiff', 'BlackRatingDiff', 'ECO', 'TimeControl', 'Termination', 'Evaluation']\n",
    "clk_str = \"%clk\"\n",
    "eval_str = \"%eval\"\n",
    "while(count < max):\n",
    "    notcomplete = True\n",
    "    line = [\"\"] * 11\n",
    "    store_rl = \"\"\n",
    "    while(notcomplete):\n",
    "        rl = readpgn.readline()\n",
    "        rl = rl[1:-2]\n",
    "        header = rl.split(\" \", 1)[0]\n",
    "        s = \"\"\n",
    "        if(header in keywords):\n",
    "            s = rl.split(\" \", 1)[1]\n",
    "            s = s[1:-1]\n",
    "            ind = keywords.index(header)\n",
    "            line[ind] = s\n",
    "        if(header == \"Result\"):\n",
    "            if s == \"1-0\":\n",
    "                line[0] = 1\n",
    "            elif \"1/2\" in s:\n",
    "                line[0] = 0.5\n",
    "            else:\n",
    "                line[0] = 0\n",
    "        if(header == \"Termination\"):\n",
    "            line[10] = \"No\"\n",
    "            if(s == \"Abandoned\"):\n",
    "                line[10] = \"No\"\n",
    "            else:\n",
    "                rl = readpgn.readline()\n",
    "                rl = readpgn.readline()\n",
    "                if clk_str in rl:\n",
    "                    if eval_str in rl:\n",
    "                        line[10] = \"Yes\"\n",
    "                        store_rl = rl\n",
    "                    else:\n",
    "                        line[10] = \"No\"\n",
    "            notcomplete = False\n",
    "    if(line[10] == \"Yes\" and line[8] in timeformat):\n",
    "        wr.write(\"Result:\"+str(line[0])+\"\\n\")\n",
    "        wr.write(\"WhiteElo:\"+str(line[3])+\"\\n\")\n",
    "        wr.write(\"BlackElo:\"+str(line[4])+\"\\n\")\n",
    "        wr.write(\"TimeFormat:\"+str(line[8])+\"\\n\")\n",
    "        wr.write(store_rl)\n",
    "        if(count > per_split * (curr_split + 1)):\n",
    "            wr.close()\n",
    "            curr_split += 1\n",
    "            wr = open(dir + \"split_pgn_\"+ str(curr_split) + '.pgn', mode = 'a+', newline = '')\n",
    "    count += 1\n",
    "wr.close()\n",
    "readpgn.close()"
   ]
  },
  {
   "cell_type": "code",
   "execution_count": null,
   "id": "15f17804",
   "metadata": {},
   "outputs": [],
   "source": []
  }
 ],
 "metadata": {
  "kernelspec": {
   "display_name": "Python 3 (ipykernel)",
   "language": "python",
   "name": "python3"
  },
  "language_info": {
   "codemirror_mode": {
    "name": "ipython",
    "version": 3
   },
   "file_extension": ".py",
   "mimetype": "text/x-python",
   "name": "python",
   "nbconvert_exporter": "python",
   "pygments_lexer": "ipython3",
   "version": "3.9.7"
  }
 },
 "nbformat": 4,
 "nbformat_minor": 5
}
